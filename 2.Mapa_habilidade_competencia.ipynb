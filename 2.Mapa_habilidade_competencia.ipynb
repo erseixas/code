{
 "cells": [
  {
   "cell_type": "code",
   "execution_count": 5,
   "metadata": {},
   "outputs": [],
   "source": [
    "import pandas as pd\n",
    "from datetime import datetime\n",
    "from dateutil.relativedelta import relativedelta\n",
    "import numpy as np"
   ]
  },
  {
   "cell_type": "code",
   "execution_count": 6,
   "metadata": {},
   "outputs": [],
   "source": [
    "# Caminho do arquivo Excel\n",
    "pathfile = './data/20240801_Planilhas_com_respostas_mdc_OCULTO.xlsx'\n",
    "# Carrega a aba específica do arquivo\n",
    "df_pessoas = pd.read_excel(pathfile, sheet_name='20240801_Planilhas_com_resposta')\n",
    "\n",
    "# Mapeamento do campo Tipo de Desligamento com o Y\n",
    "tipo_desligamento_dict = pd.read_excel(pathfile, sheet_name='Tipo Desligamento > Y')\n",
    "\n",
    "# Remove espaços extras e valores nulos de cada coluna\n",
    "df_categoria = pd.DataFrame(df_pessoas['categoria_mdc'].dropna().astype(str).str.strip().unique(), columns=['categoria_mdc'])\n",
    "df_conhecimento = pd.DataFrame(df_pessoas['conhecimento_mdc'].dropna().astype(str).str.strip().unique(), columns=['conhecimento_mdc'])\n",
    "df_habilidade = pd.DataFrame(df_pessoas['habilidade_mdc'].dropna().astype(str).str.strip().unique(), columns=['habilidade_mdc'])\n"
   ]
  },
  {
   "cell_type": "code",
   "execution_count": 7,
   "metadata": {},
   "outputs": [],
   "source": [
    "# Caminho do arquivo Excel\n",
    "pathfile = './data/Pessoas_alocacoes_projetos_OCULTOS_projeto.xlsx'\n",
    "# Carrega a aba específica do arquivo\n",
    "df_projetos = pd.read_excel(pathfile, sheet_name='Pessoas_alocacoes_projetos_OCUL')"
   ]
  },
  {
   "cell_type": "code",
   "execution_count": 8,
   "metadata": {},
   "outputs": [
    {
     "name": "stdout",
     "output_type": "stream",
     "text": [
      "🔍 Total de competências únicas: 34\n",
      "0                   Arquiteturas\n",
      "1     Compilação e Empacotamento\n",
      "2                     Containers\n",
      "3         Gerenciamento de Teste\n",
      "4    Gestão de dados para testes\n",
      "dtype: object\n"
     ]
    }
   ],
   "source": [
    "# Lista de colunas de competências\n",
    "competencias_cols = [f'competencia{i}' for i in range(1, 22)]\n",
    "\n",
    "# Junta todas as competências em uma coluna única (dropando valores nulos e duplicados)\n",
    "competencias = pd.Series(df_projetos[competencias_cols].values.ravel()).dropna()\n",
    "competencias = competencias.str.strip().drop_duplicates().reset_index(drop=True)\n",
    "\n",
    "print(\"🔍 Total de competências únicas:\", len(competencias))\n",
    "print(competencias.head())"
   ]
  },
  {
   "cell_type": "code",
   "execution_count": 9,
   "metadata": {},
   "outputs": [
    {
     "data": {
      "application/vnd.jupyter.widget-view+json": {
       "model_id": "3ed0dd22c1c24db0a024a55b3c07364b",
       "version_major": 2,
       "version_minor": 0
      },
      "text/plain": [
       "Batches:   0%|          | 0/2 [00:00<?, ?it/s]"
      ]
     },
     "metadata": {},
     "output_type": "display_data"
    },
    {
     "name": "stdout",
     "output_type": "stream",
     "text": [
      "\n",
      "🧩 Total de grupos encontrados: 0\n",
      "\n",
      "🔍 Competências não agrupadas (outliers):\n",
      "['Arquiteturas' 'Compilação e Empacotamento' 'Containers'\n",
      " 'Gerenciamento de Teste' 'Gestão de dados para testes'\n",
      " 'Integração contínua' 'Linguagens e APIs'\n",
      " 'Metodologias e tipos de testes' 'Report de Testes' 'RPA' 'Segurança'\n",
      " 'Testes de API' 'Testes Manuais' 'Testes não funcionais'\n",
      " 'ALM, Issue tracking e versionamento' 'Análise Estática de Código'\n",
      " 'Levantamento de Requisitos e Documentação'\n",
      " 'Normas, Boas Práticas e Métodos' 'Repositório de binários'\n",
      " 'Testes automatizados e frame' 'Testes Mobile' 'Testes Unitários'\n",
      " 'Tipos de requisito' 'Web e Application Server / Serverless'\n",
      " 'Desenvolvimento Mobile' 'Banco de dados' 'UI / UX' 'Monitoramento e APM'\n",
      " 'Testes de Interface' 'Infraestrutura como Código' 'Clouds'\n",
      " 'Gerenciamento de API' 'Ambiente e Sistemas Operacionais' 'Agilidade']\n"
     ]
    }
   ],
   "source": [
    "from sentence_transformers import SentenceTransformer\n",
    "import hdbscan\n",
    "\n",
    "import warnings\n",
    "warnings.filterwarnings('ignore')\n",
    "\n",
    "# ============================\n",
    "# Embeddings com SentenceTransformer\n",
    "# ============================\n",
    "modelo = SentenceTransformer('paraphrase-multilingual-MiniLM-L12-v2')\n",
    "embeddings = modelo.encode(competencias, show_progress_bar=True)\n",
    "\n",
    "# ============================\n",
    "# Agrupamento com HDBSCAN\n",
    "# ============================\n",
    "clusterer = hdbscan.HDBSCAN(min_cluster_size=3, metric='euclidean')\n",
    "labels = clusterer.fit_predict(embeddings)\n",
    "\n",
    "# Agrupa os resultados\n",
    "competencias_clustered = pd.DataFrame({\n",
    "    'competencia': competencias,\n",
    "    'grupo': labels\n",
    "})\n",
    "\n",
    "# Visualiza os grupos encontrados\n",
    "num_grupos = len(set(labels)) - (1 if -1 in labels else 0)\n",
    "print(f\"\\n🧩 Total de grupos encontrados: {num_grupos}\")\n",
    "\n",
    "for grupo in sorted(competencias_clustered['grupo'].unique()):\n",
    "    if grupo == -1:\n",
    "        print(\"\\n🔍 Competências não agrupadas (outliers):\")\n",
    "    else:\n",
    "        print(f\"\\n🧩 Grupo {grupo}\")\n",
    "    print(competencias_clustered[competencias_clustered['grupo'] == grupo]['competencia'].values)"
   ]
  },
  {
   "cell_type": "code",
   "execution_count": 10,
   "metadata": {},
   "outputs": [
    {
     "data": {
      "application/vnd.plotly.v1+json": {
       "config": {
        "plotlyServerURL": "https://plot.ly"
       },
       "data": [
        {
         "customdata": [
          [
           "Arquiteturas",
           -1
          ],
          [
           "Compilação e Empacotamento",
           -1
          ],
          [
           "Containers",
           -1
          ],
          [
           "Gerenciamento de Teste",
           -1
          ],
          [
           "Gestão de dados para testes",
           -1
          ],
          [
           "Integração contínua",
           -1
          ],
          [
           "Linguagens e APIs",
           -1
          ],
          [
           "Metodologias e tipos de testes",
           -1
          ],
          [
           "Report de Testes",
           -1
          ],
          [
           "RPA",
           -1
          ],
          [
           "Segurança",
           -1
          ],
          [
           "Testes de API",
           -1
          ],
          [
           "Testes Manuais",
           -1
          ],
          [
           "Testes não funcionais",
           -1
          ],
          [
           "ALM, Issue tracking e versionamento",
           -1
          ],
          [
           "Análise Estática de Código",
           -1
          ],
          [
           "Levantamento de Requisitos e Documentação",
           -1
          ],
          [
           "Normas, Boas Práticas e Métodos",
           -1
          ],
          [
           "Repositório de binários",
           -1
          ],
          [
           "Testes automatizados e frame",
           -1
          ],
          [
           "Testes Mobile",
           -1
          ],
          [
           "Testes Unitários",
           -1
          ],
          [
           "Tipos de requisito",
           -1
          ],
          [
           "Web e Application Server / Serverless",
           -1
          ],
          [
           "Desenvolvimento Mobile",
           -1
          ],
          [
           "Banco de dados",
           -1
          ],
          [
           "UI / UX",
           -1
          ],
          [
           "Monitoramento e APM",
           -1
          ],
          [
           "Testes de Interface",
           -1
          ],
          [
           "Infraestrutura como Código",
           -1
          ],
          [
           "Clouds",
           -1
          ],
          [
           "Gerenciamento de API",
           -1
          ],
          [
           "Ambiente e Sistemas Operacionais",
           -1
          ],
          [
           "Agilidade",
           -1
          ]
         ],
         "hovertemplate": "color=-1<br>x=%{x}<br>y=%{y}<br>competencia=%{customdata[0]}<br>Grupo=%{customdata[1]}<extra></extra>",
         "legendgroup": "-1",
         "marker": {
          "color": "#636efa",
          "symbol": "circle"
         },
         "mode": "markers",
         "name": "-1",
         "orientation": "v",
         "showlegend": true,
         "type": "scatter",
         "x": {
          "bdata": "mH9DwLRoYsDzTozAHZTSwLKlucD/aIDABmmrwMnt1cDFZMnAOPJjwAHfdcBNAcnA0XzUwOH54MCVc6DARQmmwKwSYMC8U3vAAUaXwBPbzcCdf8TAe1LmwJS/iMDIsLnAsKSLwPDPl8CWhLrABnCqwEMOxMAUep/A8C1BwAyUrcDcBZnA6fBVwA==",
          "dtype": "f4"
         },
         "xaxis": "x",
         "y": {
          "bdata": "4PmnQIVfo0C5z6VAvUcHQUkD/0CnMblAKIywQAXPAEHCWg5BxyHLQLHZqUB3keJAL5IRQaO4CUEGjeJASJzMQNOjkkDuKpJA0sbBQMmh+0At9AVBOFwDQY6zh0BCFcFAMfTWQG0f9UClZLRAF6b5QPK91UBpRahA21TBQIvxvEBxWplA+I2wQA==",
          "dtype": "f4"
         },
         "yaxis": "y"
        }
       ],
       "layout": {
        "height": 600,
        "legend": {
         "title": {
          "text": "color"
         },
         "tracegroupgap": 0
        },
        "template": {
         "data": {
          "bar": [
           {
            "error_x": {
             "color": "#2a3f5f"
            },
            "error_y": {
             "color": "#2a3f5f"
            },
            "marker": {
             "line": {
              "color": "#E5ECF6",
              "width": 0.5
             },
             "pattern": {
              "fillmode": "overlay",
              "size": 10,
              "solidity": 0.2
             }
            },
            "type": "bar"
           }
          ],
          "barpolar": [
           {
            "marker": {
             "line": {
              "color": "#E5ECF6",
              "width": 0.5
             },
             "pattern": {
              "fillmode": "overlay",
              "size": 10,
              "solidity": 0.2
             }
            },
            "type": "barpolar"
           }
          ],
          "carpet": [
           {
            "aaxis": {
             "endlinecolor": "#2a3f5f",
             "gridcolor": "white",
             "linecolor": "white",
             "minorgridcolor": "white",
             "startlinecolor": "#2a3f5f"
            },
            "baxis": {
             "endlinecolor": "#2a3f5f",
             "gridcolor": "white",
             "linecolor": "white",
             "minorgridcolor": "white",
             "startlinecolor": "#2a3f5f"
            },
            "type": "carpet"
           }
          ],
          "choropleth": [
           {
            "colorbar": {
             "outlinewidth": 0,
             "ticks": ""
            },
            "type": "choropleth"
           }
          ],
          "contour": [
           {
            "colorbar": {
             "outlinewidth": 0,
             "ticks": ""
            },
            "colorscale": [
             [
              0,
              "#0d0887"
             ],
             [
              0.1111111111111111,
              "#46039f"
             ],
             [
              0.2222222222222222,
              "#7201a8"
             ],
             [
              0.3333333333333333,
              "#9c179e"
             ],
             [
              0.4444444444444444,
              "#bd3786"
             ],
             [
              0.5555555555555556,
              "#d8576b"
             ],
             [
              0.6666666666666666,
              "#ed7953"
             ],
             [
              0.7777777777777778,
              "#fb9f3a"
             ],
             [
              0.8888888888888888,
              "#fdca26"
             ],
             [
              1,
              "#f0f921"
             ]
            ],
            "type": "contour"
           }
          ],
          "contourcarpet": [
           {
            "colorbar": {
             "outlinewidth": 0,
             "ticks": ""
            },
            "type": "contourcarpet"
           }
          ],
          "heatmap": [
           {
            "colorbar": {
             "outlinewidth": 0,
             "ticks": ""
            },
            "colorscale": [
             [
              0,
              "#0d0887"
             ],
             [
              0.1111111111111111,
              "#46039f"
             ],
             [
              0.2222222222222222,
              "#7201a8"
             ],
             [
              0.3333333333333333,
              "#9c179e"
             ],
             [
              0.4444444444444444,
              "#bd3786"
             ],
             [
              0.5555555555555556,
              "#d8576b"
             ],
             [
              0.6666666666666666,
              "#ed7953"
             ],
             [
              0.7777777777777778,
              "#fb9f3a"
             ],
             [
              0.8888888888888888,
              "#fdca26"
             ],
             [
              1,
              "#f0f921"
             ]
            ],
            "type": "heatmap"
           }
          ],
          "histogram": [
           {
            "marker": {
             "pattern": {
              "fillmode": "overlay",
              "size": 10,
              "solidity": 0.2
             }
            },
            "type": "histogram"
           }
          ],
          "histogram2d": [
           {
            "colorbar": {
             "outlinewidth": 0,
             "ticks": ""
            },
            "colorscale": [
             [
              0,
              "#0d0887"
             ],
             [
              0.1111111111111111,
              "#46039f"
             ],
             [
              0.2222222222222222,
              "#7201a8"
             ],
             [
              0.3333333333333333,
              "#9c179e"
             ],
             [
              0.4444444444444444,
              "#bd3786"
             ],
             [
              0.5555555555555556,
              "#d8576b"
             ],
             [
              0.6666666666666666,
              "#ed7953"
             ],
             [
              0.7777777777777778,
              "#fb9f3a"
             ],
             [
              0.8888888888888888,
              "#fdca26"
             ],
             [
              1,
              "#f0f921"
             ]
            ],
            "type": "histogram2d"
           }
          ],
          "histogram2dcontour": [
           {
            "colorbar": {
             "outlinewidth": 0,
             "ticks": ""
            },
            "colorscale": [
             [
              0,
              "#0d0887"
             ],
             [
              0.1111111111111111,
              "#46039f"
             ],
             [
              0.2222222222222222,
              "#7201a8"
             ],
             [
              0.3333333333333333,
              "#9c179e"
             ],
             [
              0.4444444444444444,
              "#bd3786"
             ],
             [
              0.5555555555555556,
              "#d8576b"
             ],
             [
              0.6666666666666666,
              "#ed7953"
             ],
             [
              0.7777777777777778,
              "#fb9f3a"
             ],
             [
              0.8888888888888888,
              "#fdca26"
             ],
             [
              1,
              "#f0f921"
             ]
            ],
            "type": "histogram2dcontour"
           }
          ],
          "mesh3d": [
           {
            "colorbar": {
             "outlinewidth": 0,
             "ticks": ""
            },
            "type": "mesh3d"
           }
          ],
          "parcoords": [
           {
            "line": {
             "colorbar": {
              "outlinewidth": 0,
              "ticks": ""
             }
            },
            "type": "parcoords"
           }
          ],
          "pie": [
           {
            "automargin": true,
            "type": "pie"
           }
          ],
          "scatter": [
           {
            "fillpattern": {
             "fillmode": "overlay",
             "size": 10,
             "solidity": 0.2
            },
            "type": "scatter"
           }
          ],
          "scatter3d": [
           {
            "line": {
             "colorbar": {
              "outlinewidth": 0,
              "ticks": ""
             }
            },
            "marker": {
             "colorbar": {
              "outlinewidth": 0,
              "ticks": ""
             }
            },
            "type": "scatter3d"
           }
          ],
          "scattercarpet": [
           {
            "marker": {
             "colorbar": {
              "outlinewidth": 0,
              "ticks": ""
             }
            },
            "type": "scattercarpet"
           }
          ],
          "scattergeo": [
           {
            "marker": {
             "colorbar": {
              "outlinewidth": 0,
              "ticks": ""
             }
            },
            "type": "scattergeo"
           }
          ],
          "scattergl": [
           {
            "marker": {
             "colorbar": {
              "outlinewidth": 0,
              "ticks": ""
             }
            },
            "type": "scattergl"
           }
          ],
          "scattermap": [
           {
            "marker": {
             "colorbar": {
              "outlinewidth": 0,
              "ticks": ""
             }
            },
            "type": "scattermap"
           }
          ],
          "scattermapbox": [
           {
            "marker": {
             "colorbar": {
              "outlinewidth": 0,
              "ticks": ""
             }
            },
            "type": "scattermapbox"
           }
          ],
          "scatterpolar": [
           {
            "marker": {
             "colorbar": {
              "outlinewidth": 0,
              "ticks": ""
             }
            },
            "type": "scatterpolar"
           }
          ],
          "scatterpolargl": [
           {
            "marker": {
             "colorbar": {
              "outlinewidth": 0,
              "ticks": ""
             }
            },
            "type": "scatterpolargl"
           }
          ],
          "scatterternary": [
           {
            "marker": {
             "colorbar": {
              "outlinewidth": 0,
              "ticks": ""
             }
            },
            "type": "scatterternary"
           }
          ],
          "surface": [
           {
            "colorbar": {
             "outlinewidth": 0,
             "ticks": ""
            },
            "colorscale": [
             [
              0,
              "#0d0887"
             ],
             [
              0.1111111111111111,
              "#46039f"
             ],
             [
              0.2222222222222222,
              "#7201a8"
             ],
             [
              0.3333333333333333,
              "#9c179e"
             ],
             [
              0.4444444444444444,
              "#bd3786"
             ],
             [
              0.5555555555555556,
              "#d8576b"
             ],
             [
              0.6666666666666666,
              "#ed7953"
             ],
             [
              0.7777777777777778,
              "#fb9f3a"
             ],
             [
              0.8888888888888888,
              "#fdca26"
             ],
             [
              1,
              "#f0f921"
             ]
            ],
            "type": "surface"
           }
          ],
          "table": [
           {
            "cells": {
             "fill": {
              "color": "#EBF0F8"
             },
             "line": {
              "color": "white"
             }
            },
            "header": {
             "fill": {
              "color": "#C8D4E3"
             },
             "line": {
              "color": "white"
             }
            },
            "type": "table"
           }
          ]
         },
         "layout": {
          "annotationdefaults": {
           "arrowcolor": "#2a3f5f",
           "arrowhead": 0,
           "arrowwidth": 1
          },
          "autotypenumbers": "strict",
          "coloraxis": {
           "colorbar": {
            "outlinewidth": 0,
            "ticks": ""
           }
          },
          "colorscale": {
           "diverging": [
            [
             0,
             "#8e0152"
            ],
            [
             0.1,
             "#c51b7d"
            ],
            [
             0.2,
             "#de77ae"
            ],
            [
             0.3,
             "#f1b6da"
            ],
            [
             0.4,
             "#fde0ef"
            ],
            [
             0.5,
             "#f7f7f7"
            ],
            [
             0.6,
             "#e6f5d0"
            ],
            [
             0.7,
             "#b8e186"
            ],
            [
             0.8,
             "#7fbc41"
            ],
            [
             0.9,
             "#4d9221"
            ],
            [
             1,
             "#276419"
            ]
           ],
           "sequential": [
            [
             0,
             "#0d0887"
            ],
            [
             0.1111111111111111,
             "#46039f"
            ],
            [
             0.2222222222222222,
             "#7201a8"
            ],
            [
             0.3333333333333333,
             "#9c179e"
            ],
            [
             0.4444444444444444,
             "#bd3786"
            ],
            [
             0.5555555555555556,
             "#d8576b"
            ],
            [
             0.6666666666666666,
             "#ed7953"
            ],
            [
             0.7777777777777778,
             "#fb9f3a"
            ],
            [
             0.8888888888888888,
             "#fdca26"
            ],
            [
             1,
             "#f0f921"
            ]
           ],
           "sequentialminus": [
            [
             0,
             "#0d0887"
            ],
            [
             0.1111111111111111,
             "#46039f"
            ],
            [
             0.2222222222222222,
             "#7201a8"
            ],
            [
             0.3333333333333333,
             "#9c179e"
            ],
            [
             0.4444444444444444,
             "#bd3786"
            ],
            [
             0.5555555555555556,
             "#d8576b"
            ],
            [
             0.6666666666666666,
             "#ed7953"
            ],
            [
             0.7777777777777778,
             "#fb9f3a"
            ],
            [
             0.8888888888888888,
             "#fdca26"
            ],
            [
             1,
             "#f0f921"
            ]
           ]
          },
          "colorway": [
           "#636efa",
           "#EF553B",
           "#00cc96",
           "#ab63fa",
           "#FFA15A",
           "#19d3f3",
           "#FF6692",
           "#B6E880",
           "#FF97FF",
           "#FECB52"
          ],
          "font": {
           "color": "#2a3f5f"
          },
          "geo": {
           "bgcolor": "white",
           "lakecolor": "white",
           "landcolor": "#E5ECF6",
           "showlakes": true,
           "showland": true,
           "subunitcolor": "white"
          },
          "hoverlabel": {
           "align": "left"
          },
          "hovermode": "closest",
          "mapbox": {
           "style": "light"
          },
          "paper_bgcolor": "white",
          "plot_bgcolor": "#E5ECF6",
          "polar": {
           "angularaxis": {
            "gridcolor": "white",
            "linecolor": "white",
            "ticks": ""
           },
           "bgcolor": "#E5ECF6",
           "radialaxis": {
            "gridcolor": "white",
            "linecolor": "white",
            "ticks": ""
           }
          },
          "scene": {
           "xaxis": {
            "backgroundcolor": "#E5ECF6",
            "gridcolor": "white",
            "gridwidth": 2,
            "linecolor": "white",
            "showbackground": true,
            "ticks": "",
            "zerolinecolor": "white"
           },
           "yaxis": {
            "backgroundcolor": "#E5ECF6",
            "gridcolor": "white",
            "gridwidth": 2,
            "linecolor": "white",
            "showbackground": true,
            "ticks": "",
            "zerolinecolor": "white"
           },
           "zaxis": {
            "backgroundcolor": "#E5ECF6",
            "gridcolor": "white",
            "gridwidth": 2,
            "linecolor": "white",
            "showbackground": true,
            "ticks": "",
            "zerolinecolor": "white"
           }
          },
          "shapedefaults": {
           "line": {
            "color": "#2a3f5f"
           }
          },
          "ternary": {
           "aaxis": {
            "gridcolor": "white",
            "linecolor": "white",
            "ticks": ""
           },
           "baxis": {
            "gridcolor": "white",
            "linecolor": "white",
            "ticks": ""
           },
           "bgcolor": "#E5ECF6",
           "caxis": {
            "gridcolor": "white",
            "linecolor": "white",
            "ticks": ""
           }
          },
          "title": {
           "x": 0.05
          },
          "xaxis": {
           "automargin": true,
           "gridcolor": "white",
           "linecolor": "white",
           "ticks": "",
           "title": {
            "standoff": 15
           },
           "zerolinecolor": "white",
           "zerolinewidth": 2
          },
          "yaxis": {
           "automargin": true,
           "gridcolor": "white",
           "linecolor": "white",
           "ticks": "",
           "title": {
            "standoff": 15
           },
           "zerolinecolor": "white",
           "zerolinewidth": 2
          }
         }
        },
        "title": {
         "text": "Visualização de Competências Agrupadas (HDBSCAN + UMAP)"
        },
        "xaxis": {
         "anchor": "y",
         "domain": [
          0,
          1
         ],
         "title": {
          "text": "x"
         }
        },
        "yaxis": {
         "anchor": "x",
         "domain": [
          0,
          1
         ],
         "title": {
          "text": "y"
         }
        }
       }
      }
     },
     "metadata": {},
     "output_type": "display_data"
    }
   ],
   "source": [
    "import umap.umap_ as umap\n",
    "import plotly.express as px\n",
    "\n",
    "# Redução de dimensionalidade com UMAP\n",
    "umap_2d = umap.UMAP(n_neighbors=15, min_dist=0.1, metric='cosine', random_state=42)\n",
    "embeddings_2d = umap_2d.fit_transform(embeddings)\n",
    "\n",
    "# DataFrame com resultados\n",
    "df_plot = pd.DataFrame({\n",
    "    'competencia': competencias,\n",
    "    'x': embeddings_2d[:, 0],\n",
    "    'y': embeddings_2d[:, 1],\n",
    "    'grupo': labels\n",
    "})\n",
    "\n",
    "# Visualização interativa com Plotly\n",
    "fig = px.scatter(\n",
    "    df_plot,\n",
    "    x='x',\n",
    "    y='y',\n",
    "    color=df_plot['grupo'].astype(str),\n",
    "    hover_data={'competencia': True, 'grupo': True},\n",
    "    title='Visualização de Competências Agrupadas (HDBSCAN + UMAP)',\n",
    "    labels={'grupo': 'Grupo'}\n",
    ")\n",
    "\n",
    "fig.update_layout(height=600)\n",
    "fig.show()"
   ]
  },
  {
   "cell_type": "code",
   "execution_count": null,
   "metadata": {},
   "outputs": [
    {
     "data": {
      "application/vnd.jupyter.widget-view+json": {
       "model_id": "5c6e24b4a819471f93137369cec1f571",
       "version_major": 2,
       "version_minor": 0
      },
      "text/plain": [
       "Batches:   0%|          | 0/2 [00:00<?, ?it/s]"
      ]
     },
     "metadata": {},
     "output_type": "display_data"
    },
    {
     "data": {
      "application/vnd.jupyter.widget-view+json": {
       "model_id": "cc52f3db5ccc466b8c3648e1f05a291c",
       "version_major": 2,
       "version_minor": 0
      },
      "text/plain": [
       "Batches:   0%|          | 0/2 [00:00<?, ?it/s]"
      ]
     },
     "metadata": {},
     "output_type": "display_data"
    },
    {
     "name": "stdout",
     "output_type": "stream",
     "text": [
      "                      competencia          categoria_mais_proxima\n",
      "0                    Arquiteturas                    Arquiteturas\n",
      "1      Compilação e Empacotamento      Compilação e Empacotamento\n",
      "2                      Containers                      Containers\n",
      "3          Gerenciamento de Teste          Gerenciamento de Teste\n",
      "4     Gestão de dados para testes     Gestão de dados para testes\n",
      "5             Integração contínua             Integração contínua\n",
      "6               Linguagens e APIs               Linguagens e APIs\n",
      "7  Metodologias e tipos de testes  Metodologias e tipos de testes\n",
      "8                Report de Testes                Report de Testes\n",
      "9                             RPA                             RPA\n",
      "                               categoria_mdc  \\\n",
      "0        Self-Service BI, Data Science, Etc.   \n",
      "1                               Arquiteturas   \n",
      "2                      Gestão de Aplicativos   \n",
      "3                          Linguagens e APIs   \n",
      "4  Levantamento de Requisitos e Documentação   \n",
      "5        ALM, Issue tracking e versionamento   \n",
      "6                     Gerenciamento de Teste   \n",
      "7                             Banco de dados   \n",
      "8      Web e Application Server / Serverless   \n",
      "9                     Desenvolvimento Mobile   \n",
      "\n",
      "                    competencia_mais_proxima  \n",
      "0                             Banco de dados  \n",
      "1                               Arquiteturas  \n",
      "2           Ambiente e Sistemas Operacionais  \n",
      "3                          Linguagens e APIs  \n",
      "4  Levantamento de Requisitos e Documentação  \n",
      "5        ALM, Issue tracking e versionamento  \n",
      "6                     Gerenciamento de Teste  \n",
      "7                             Banco de dados  \n",
      "8      Web e Application Server / Serverless  \n",
      "9                     Desenvolvimento Mobile  \n"
     ]
    }
   ],
   "source": [
    "from sentence_transformers import SentenceTransformer, util\n",
    "\n",
    "# === Embeddings com modelo de alta performance ===\n",
    "modelo = SentenceTransformer('paraphrase-multilingual-MiniLM-L12-v2')\n",
    "\n",
    "# Gera os embeddings\n",
    "embeddings_categorias = modelo.encode(df_categoria['categoria_mdc'].tolist(), convert_to_tensor=True, show_progress_bar=True)\n",
    "embeddings_competencias = modelo.encode(competencias.tolist(), convert_to_tensor=True, show_progress_bar=True)\n",
    "\n",
    "# === Calcula similaridades e encontra a mais próxima para cada categoria ===\n",
    "competencias_mais_proximas = []\n",
    "\n",
    "for idx, emb_categoria in enumerate(embeddings_categorias):\n",
    "    # Calcula similaridade com todas as competências\n",
    "    similaridades = util.cos_sim(emb_categoria, embeddings_competencias)[0]\n",
    "    indice_mais_proximo = similaridades.argmax().item()\n",
    "    competencia_mais_proxima = competencias[indice_mais_proximo]\n",
    "    competencias_mais_proximas.append(competencia_mais_proxima)\n",
    "\n",
    "# DataFrame original de competências (garante que seja coluna única)\n",
    "df_competencias = pd.DataFrame(competencias, columns=['competencia'])\n",
    "\n",
    "# === Para cada competência, encontra a categoria_mdc mais próxima ===\n",
    "categorias = df_categoria['categoria_mdc'].tolist()  # mesma lista usada nos embeddings\n",
    "\n",
    "categorias_mais_proximas = []\n",
    "\n",
    "for idx, emb_comp in enumerate(embeddings_competencias):\n",
    "    similaridades = util.cos_sim(emb_comp, embeddings_categorias)[0]\n",
    "    indice_mais_proximo = similaridades.argmax().item()\n",
    "    categoria_mais_proxima = categorias[indice_mais_proximo]\n",
    "    categorias_mais_proximas.append(categoria_mais_proxima)\n",
    "\n",
    "# Adiciona ao DataFrame de competências\n",
    "df_competencias['categoria_mais_proxima'] = categorias_mais_proximas\n",
    "\n",
    "# Exibe os resultados\n",
    "print(df_competencias.head(10))\n",
    "\n",
    "# Adiciona ao dataframe\n",
    "df_categoria['competencia_mais_proxima'] = competencias_mais_proximas\n",
    "\n",
    "# Exibe resultado\n",
    "print(df_categoria.head(10))\n",
    "\n",
    "# Caminho de saída do arquivo Excel\n",
    "output_path = './output/mapa_competencias_para_categorias.xlsx'\n",
    "# Salva o resultado em Excel\n",
    "df_competencias.to_excel(output_path, index=False, sheet_name='mapa_competencias_categorias')\n",
    "\n",
    "# Caminho de saída do arquivo Excel\n",
    "output_path = './output/mapa_categorias_para_competencias.xlsx'\n",
    "# Salva o resultado em Excel\n",
    "df_categoria.to_excel(output_path, index=False, sheet_name='mapa_categorias_competencias')\n"
   ]
  },
  {
   "cell_type": "code",
   "execution_count": 15,
   "metadata": {},
   "outputs": [
    {
     "name": "stdout",
     "output_type": "stream",
     "text": [
      "                      habilidade_mdc               categorias_associadas\n",
      "0                          (ver ALM)                 Integração contínua\n",
      "1                                A/B      Metodologias e tipos de testes\n",
      "2                                AKS                          Containers\n",
      "3                                AWS                              Clouds\n",
      "4                           Acunetix                           Segurança\n",
      "5                             Ad-hoc                      Testes Manuais\n",
      "6                           Adobe XD  Prototipação / Design de Interação\n",
      "7  Agile / Lean Portfolio Management                           Agilidade\n",
      "8                             Allure                    Report de Testes\n",
      "9                 Amazon API Gateway                Gerenciamento de API\n"
     ]
    }
   ],
   "source": [
    "# Limpa os dados: remove nulos, espaços e garante strings\n",
    "df_pessoas = df_pessoas[['categoria_mdc', 'habilidade_mdc']].dropna()\n",
    "df_pessoas['categoria_mdc'] = df_pessoas['categoria_mdc'].astype(str).str.strip()\n",
    "df_pessoas['habilidade_mdc'] = df_pessoas['habilidade_mdc'].astype(str).str.strip()\n",
    "\n",
    "# Mapeia habilidade -> lista de categorias (únicas)\n",
    "mapa_habilidades_categorias = (\n",
    "    df_pessoas\n",
    "    .groupby('habilidade_mdc')['categoria_mdc']\n",
    "    .apply(lambda x: ', '.join(sorted(set(x))))\n",
    "    .reset_index()\n",
    "    .rename(columns={'categoria_mdc': 'categorias_associadas'})\n",
    ")\n",
    "\n",
    "# Exibe o resultado\n",
    "print(mapa_habilidades_categorias.head(10))\n",
    "\n",
    "# Caminho de saída do arquivo Excel\n",
    "output_path = './output/mapa_habilidades_para_categorias.xlsx'\n",
    "# Salva o resultado em Excel\n",
    "mapa_habilidades_categorias .to_excel(output_path, index=False, sheet_name='mapa_habilidades_categorias')\n"
   ]
  }
 ],
 "metadata": {
  "kernelspec": {
   "display_name": "myenv",
   "language": "python",
   "name": "python3"
  },
  "language_info": {
   "codemirror_mode": {
    "name": "ipython",
    "version": 3
   },
   "file_extension": ".py",
   "mimetype": "text/x-python",
   "name": "python",
   "nbconvert_exporter": "python",
   "pygments_lexer": "ipython3",
   "version": "3.11.11"
  }
 },
 "nbformat": 4,
 "nbformat_minor": 2
}
