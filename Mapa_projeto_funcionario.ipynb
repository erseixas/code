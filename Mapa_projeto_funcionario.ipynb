{
 "cells": [
  {
   "cell_type": "code",
   "execution_count": 19,
   "id": "15b8a6f5",
   "metadata": {},
   "outputs": [],
   "source": [
    "import pandas as pd\n",
    "from datetime import datetime\n",
    "from dateutil.relativedelta import relativedelta\n",
    "import numpy as np"
   ]
  },
  {
   "cell_type": "code",
   "execution_count": 20,
   "id": "e6435cf2",
   "metadata": {},
   "outputs": [],
   "source": [
    "# Funcionarios\n",
    "path_func =  './data/20240801_Planilhas_com_respostas_mdc_OCULTO.xlsx'\n",
    "sheet_func = '20240801_Planilhas_com_resposta'\n",
    "\n",
    "# Projetos alocados\n",
    "path_proj = './data/Pessoas_alocacoes_projetos_OCULTOS_projeto.xlsx'\n",
    "sheet_proj = 'Pessoas_alocacoes_projetos_OCUL'\n",
    "\n",
    "# Mapeamento Competencia -> Categoria\n",
    "sheet_map_competencia = 'Competencia->Categoria'\n",
    "\n",
    "# Mapeamento do campo Tipo de Desligamento com o Y\n",
    "#sheet_map_tipo_deslig = 'Tipo Desligamento > Y'\n",
    "\n",
    "# Carrega os dados\n",
    "df_funcionarios = pd.read_excel(path_func, sheet_name=sheet_func)\n",
    "df_projetos = pd.read_excel(path_proj, sheet_name=sheet_proj)\n",
    "df_map_competencia = pd.read_excel(path_proj, sheet_name=sheet_map_competencia)\n",
    "#df_map_tipo_deslig = pd.read_excel(path_func, sheet_name=sheet_map_tipo_deslig)\n",
    "\n",
    "output_path = './output/planilha_funcionarios_vs_projetos.xlsx'"
   ]
  },
  {
   "cell_type": "code",
   "execution_count": 21,
   "id": "5516f953",
   "metadata": {},
   "outputs": [],
   "source": [
    "df_projetos = df_projetos.drop_duplicates(subset=['projeto']).reset_index(drop=True)"
   ]
  },
  {
   "cell_type": "code",
   "execution_count": 22,
   "id": "792699ce",
   "metadata": {},
   "outputs": [],
   "source": [
    "df_perfil = df_funcionarios.groupby(['pessoa', 'categoria_mdc'])['grau_habilidade_mdc'].mean().reset_index()"
   ]
  },
  {
   "cell_type": "code",
   "execution_count": 23,
   "id": "0f2ef045",
   "metadata": {},
   "outputs": [],
   "source": [
    "# Mapeia competência -> categoria\n",
    "mapa_competencia_categoria = dict(zip(df_map_competencia['competencia'], df_map_competencia['categoria_mais_proxima']))"
   ]
  },
  {
   "cell_type": "code",
   "execution_count": 24,
   "id": "3d4c1eae",
   "metadata": {},
   "outputs": [],
   "source": [
    "# Lista das colunas de competência nos projetos\n",
    "col_competencias = [col for col in df_projetos.columns if col.startswith('competencia')]\n"
   ]
  },
  {
   "cell_type": "code",
   "execution_count": 25,
   "id": "4eef3fd3",
   "metadata": {},
   "outputs": [],
   "source": [
    "ranking = []\n",
    "\n",
    "for _, projeto in df_projetos.iterrows():\n",
    "    projeto_id = projeto['projeto']\n",
    "    competencias = projeto[col_competencias].dropna().tolist()\n",
    "    if len(competencias) == 0:\n",
    "        continue\n",
    "    categorias_necessarias = set(mapa_competencia_categoria[comp] for comp in competencias if comp in mapa_competencia_categoria)\n",
    "\n",
    "    for funcionario_id, grupo in df_perfil.groupby('pessoa'):\n",
    "        categorias_func = set(grupo['categoria_mdc'])\n",
    "\n",
    "        # Cobertura: quantas categorias exigidas o funcionário cobre\n",
    "        cobertura = len(categorias_necessarias & categorias_func)\n",
    "\n",
    "        # Média dos graus nas categorias relevantes\n",
    "        media_graus = grupo[grupo['categoria_mdc'].isin(categorias_necessarias)]['grau_habilidade_mdc'].mean()\n",
    "\n",
    "        ranking.append({\n",
    "            'projeto_id': projeto_id,\n",
    "            'funcionario_id': funcionario_id,\n",
    "            'cobertura': cobertura,\n",
    "            'media_grau': media_graus,\n",
    "            'score': cobertura * (media_graus if not pd.isna(media_graus) else 0)\n",
    "        })"
   ]
  },
  {
   "cell_type": "code",
   "execution_count": 26,
   "id": "b9e4b0c9",
   "metadata": {},
   "outputs": [],
   "source": [
    "df_ranking = pd.DataFrame(ranking)  # Converte a lista de dicionários em DataFrame\n",
    "df_sorted = df_ranking.sort_values(by=['funcionario_id', 'score'], ascending=[True, False])\n",
    "\n",
    "# Seleciona os top_3 projetos para cada funcionário\n",
    "df_top_proj_por_func = df_sorted.groupby('funcionario_id').head(3).reset_index(drop=True)\n",
    "\n",
    "df_top_proj_por_func.to_excel(output_path, index=False)"
   ]
  }
 ],
 "metadata": {
  "kernelspec": {
   "display_name": "myenv",
   "language": "python",
   "name": "python3"
  },
  "language_info": {
   "codemirror_mode": {
    "name": "ipython",
    "version": 3
   },
   "file_extension": ".py",
   "mimetype": "text/x-python",
   "name": "python",
   "nbconvert_exporter": "python",
   "pygments_lexer": "ipython3",
   "version": "3.11.11"
  }
 },
 "nbformat": 4,
 "nbformat_minor": 5
}
